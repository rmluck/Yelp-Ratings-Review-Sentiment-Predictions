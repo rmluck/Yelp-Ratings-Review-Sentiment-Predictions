{
 "cells": [
  {
   "cell_type": "markdown",
   "id": "f060f643",
   "metadata": {},
   "source": [
    "## Import Libraries\n",
    "\n",
    "We imported all of the libraries needed for the project below!"
   ]
  },
  {
   "cell_type": "code",
   "execution_count": 1,
   "id": "249ce920",
   "metadata": {},
   "outputs": [
    {
     "name": "stderr",
     "output_type": "stream",
     "text": [
      "/opt/anaconda3/envs/cs179/lib/python3.10/site-packages/tqdm/auto.py:21: TqdmWarning: IProgress not found. Please update jupyter and ipywidgets. See https://ipywidgets.readthedocs.io/en/stable/user_install.html\n",
      "  from .autonotebook import tqdm as notebook_tqdm\n"
     ]
    }
   ],
   "source": [
    "# Import necessary libraries\n",
    "import torch\n",
    "import pyro\n",
    "import numpy as np\n",
    "import pandas as pd\n",
    "import pyro.distributions as dist\n",
    "from pyro.nn import PyroModule, PyroSample\n",
    "from pyro.infer import SVI, Trace_ELBO, Predictive\n",
    "from pyro.optim import Adam\n",
    "from pyro.infer.autoguide import AutoNormal"
   ]
  },
  {
   "cell_type": "markdown",
   "id": "43812060",
   "metadata": {},
   "source": [
    "## Load and Prepare Data\n",
    "\n",
    "We just read in the CSV file that was created earlier (``ca_restaurants_bayesian_dataset.csv``):\n",
    "business_id,name,avg_rating,avg_sentiment_score,log_review_count\n",
    "\n",
    "After loading the data into a Pandas DataFrame, we extract the columns named `avg_sentiment_score`, `log_review_count`, and `avg_rating` (these were really the only parts of the csv file we needed for our model). We then convert these columns into tensors so that they can be fed directly into our Pyro model. The tensor `X_sentiment` holds each restaurant’s sentiment score, `X_log_reviews` holds the log review counts, and `y` holds the target ratings we want to predict.\n"
   ]
  },
  {
   "cell_type": "code",
   "execution_count": 2,
   "id": "406565c2",
   "metadata": {},
   "outputs": [],
   "source": [
    "# Load the dataset\n",
    "df = pd.read_csv(\"ca_restaurants_bayesian_dataset.csv\")\n",
    "\n",
    "# Extract the features and target\n",
    "X_sentiment = torch.tensor(df[\"avg_sentiment_score\"].values, dtype=torch.float32)\n",
    "X_log_reviews = torch.tensor(df[\"log_review_count\"].values, dtype=torch.float32)\n",
    "y = torch.tensor(df[\"avg_rating\"].values, dtype=torch.float32)"
   ]
  },
  {
   "cell_type": "markdown",
   "id": "0019b67c",
   "metadata": {},
   "source": [
    "## Define the Bayesian Model\n",
    "\n",
    "The Bayesian linear regression model assumes that each restaurant’s rating just comes from a normal distribution whose mean depends on two inputs (the average review sentiment and the log review count).\n",
    "\n",
    "We first assign prior distributions to each parameter:\n",
    "\n",
    "- `alpha` is the intercept, drawn from a Normal(0, 1) prior.\n",
    "- `beta_sentiment` is the slope for sentiment score, drawn from Normal(0, 1).\n",
    "- `beta_reviews` is the slope for log review count, drawn from Normal(0, 1).\n",
    "- `sigma` is the standard deviation of the noise, drawn from a HalfCauchy(1) prior.\n",
    "\n",
    "We then do `mean` = `alpha` + `beta_sentiment * X_sentiment` + `beta_reviews * X_log_reviews`. Each observed rating `y` is sampled from a Normal distribution centered at `mean` with standard deviation `sigma`. Pyro will just use this to compare model predictions against the actual ratings during inference."
   ]
  },
  {
   "cell_type": "code",
   "execution_count": 3,
   "id": "81956082",
   "metadata": {},
   "outputs": [],
   "source": [
    "# Define the Bayesian model\n",
    "def bayesian_model(X_sentiment, X_log_reviews, y=None):\n",
    "    # Define priors for the model parameters\n",
    "    alpha = pyro.sample(\"alpha\", dist.Normal(0., 1. ))\n",
    "    beta_sentiment = pyro.sample(\"beta_sentiment\", dist.Normal(0., 1.))\n",
    "    beta_log_reviews = pyro.sample(\"beta_reviews\", dist.Normal(0., 1.))\n",
    "    sigma = pyro.sample(\"sigma\", dist.HalfCauchy(1.))\n",
    "\n",
    "    # Define the linear model\n",
    "    mean = alpha + beta_sentiment * X_sentiment + beta_log_reviews * X_log_reviews\n",
    "    \n",
    "    # Sample from the likelihood\n",
    "    with pyro.plate(\"data\", len(X_sentiment)):\n",
    "        pyro.sample(\"obs\", dist.Normal(mean, sigma), obs=y)"
   ]
  },
  {
   "cell_type": "markdown",
   "id": "f01c9925",
   "metadata": {},
   "source": [
    "## Create an Automatic Guide\n",
    "\n",
    "This just automatically creates a normal distribution for each model parameter, allowing SVI to learn an approximate posterior without manually defining each variational distribution."
   ]
  },
  {
   "cell_type": "code",
   "execution_count": 4,
   "id": "6f2a19c8",
   "metadata": {},
   "outputs": [],
   "source": [
    "# Define the guide for mean-field variational inference\n",
    "guide = AutoNormal(bayesian_model)"
   ]
  },
  {
   "cell_type": "markdown",
   "id": "dd14ec3a",
   "metadata": {},
   "source": [
    "Fit the model with stochastic variational inference. Train the model with 5000 steps and print the loss.\n",
    "## Train the Model with Variational Inference\n",
    "\n",
    "Training process yay:\n",
    "\n",
    "We set up an optimizer with a learning rate of 0.01 and tell Pyro to use the evidence lower bound as the loss function for variational inference. We then run a loop for 5000 steps. On each step Pyro updates the guide’s parameters to minimize the bound. Every 500 steps we also go ahead and print out the current loss so that we can track how training progresses toward convergence.\n"
   ]
  },
  {
   "cell_type": "code",
   "execution_count": 5,
   "id": "8f8abe27",
   "metadata": {},
   "outputs": [
    {
     "name": "stdout",
     "output_type": "stream",
     "text": [
      "Step 0 : loss = 6842.498354457319\n",
      "Step 500 : loss = 569.4073365032673\n",
      "Step 1000 : loss = 161.27545940876007\n",
      "Step 1500 : loss = 82.4847771525383\n",
      "Step 2000 : loss = 94.93018680810928\n",
      "Step 2500 : loss = 81.29870456457138\n",
      "Step 3000 : loss = 86.01526010036469\n",
      "Step 3500 : loss = 85.13422739505768\n",
      "Step 4000 : loss = 83.10877102613449\n",
      "Step 4500 : loss = 104.91678059101105\n"
     ]
    }
   ],
   "source": [
    "# Clear the parameter store\n",
    "pyro.clear_param_store()\n",
    "\n",
    "# Define the Stochastic Variational Inference (SVI) object\n",
    "svi = SVI(\n",
    "    model=bayesian_model,\n",
    "    guide=guide,\n",
    "    optim=Adam({\"lr\": 0.01}),\n",
    "    loss=Trace_ELBO()\n",
    ")\n",
    "\n",
    "# Training the model with 5000 steps\n",
    "num_steps = 5000\n",
    "for step in range(num_steps):\n",
    "    # Perform a single step of optimization\n",
    "    loss = svi.step(X_sentiment, X_log_reviews, y)\n",
    "    \n",
    "    # Print the loss every 500 steps\n",
    "    if step % 500 == 0:\n",
    "        print(f\"Step {step} : loss = {loss}\")"
   ]
  },
  {
   "cell_type": "markdown",
   "id": "4a5ff89c",
   "metadata": {},
   "source": [
    "## Inspect Posterior Samples\n",
    "\n",
    "We examine the fitted model by drawing samples from the approx posterior distribution of each parameter.\n",
    "\n",
    "Then once we have the samples, we just compute the mean and a 95 percent credible interval for each parameter by taking the 2.5th and 97.5th percentiles. Printing these values shows our best estimates for how sentiment and review count influence the predicted rating, along with how uncertain those estimates are.\n"
   ]
  },
  {
   "cell_type": "code",
   "execution_count": 6,
   "id": "a776f0ec",
   "metadata": {},
   "outputs": [
    {
     "name": "stdout",
     "output_type": "stream",
     "text": [
      "alpha: mean = 1.946, 95% confidence interval = (np.float32(1.924582), np.float32(1.9664981))\n",
      "beta_sentiment: mean = 3.029, 95% confidence interval = (np.float32(3.0016022), np.float32(3.0567806))\n",
      "beta_reviews: mean = -0.029, 95% confidence interval = (np.float32(-0.033106484), np.float32(-0.024362568))\n",
      "sigma: mean = 0.268, 95% confidence interval = (np.float32(0.2539784), np.float32(0.28274927))\n"
     ]
    }
   ],
   "source": [
    "# Extract the learned parameters\n",
    "predictive = Predictive(\n",
    "    bayesian_model,\n",
    "    guide=guide,\n",
    "    num_samples=1000,\n",
    "    return_sites=[\"alpha\", \"beta_sentiment\", \"beta_reviews\", \"sigma\"]\n",
    ")\n",
    "\n",
    "# Generate samples from the posterior predictive distribution\n",
    "samples = predictive(X_sentiment, X_log_reviews)\n",
    "\n",
    "for parameter in [\"alpha\", \"beta_sentiment\", \"beta_reviews\", \"sigma\"]:\n",
    "    values = samples[parameter].detach().numpy()\n",
    "    mean = values.mean()\n",
    "    confidence_interval = (np.percentile(values, 2.5), np.percentile(values, 97.5))\n",
    "    print(f\"{parameter}: mean = {mean:.3f}, 95% confidence interval = {confidence_interval}\")"
   ]
  }
 ],
 "metadata": {
  "kernelspec": {
   "display_name": "cs179",
   "language": "python",
   "name": "python3"
  },
  "language_info": {
   "codemirror_mode": {
    "name": "ipython",
    "version": 3
   },
   "file_extension": ".py",
   "mimetype": "text/x-python",
   "name": "python",
   "nbconvert_exporter": "python",
   "pygments_lexer": "ipython3",
   "version": "3.10.13"
  }
 },
 "nbformat": 4,
 "nbformat_minor": 5
}
