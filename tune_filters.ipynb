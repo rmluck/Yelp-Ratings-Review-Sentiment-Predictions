{
 "cells": [
  {
   "cell_type": "markdown",
   "id": "300a56c1",
   "metadata": {},
   "source": [
    "## Tune Filters\n",
    "\n",
    "This notebook analyzes frequencies and statistics of entire dataset to accurately tune filters. Filters will then be implemented in script (``filter_city_data.py``) to perform sentiment analysis on data."
   ]
  },
  {
   "cell_type": "code",
   "execution_count": 4,
   "id": "a93a755e",
   "metadata": {},
   "outputs": [],
   "source": [
    "# Import necessary libraries\n",
    "import json\n",
    "import numpy as np\n",
    "from collections import Counter"
   ]
  },
  {
   "cell_type": "markdown",
   "id": "d442f810",
   "metadata": {},
   "source": [
    "Iterate through full business dataset from (``yelp_academic_dataset_business.json``) and gather frequencies for all categories, cities, and states. Collect stats on review counts as well."
   ]
  },
  {
   "cell_type": "code",
   "execution_count": 5,
   "id": "6a776bc2",
   "metadata": {},
   "outputs": [],
   "source": [
    "# Create counters for categories, cities, states, and a list for review counts\n",
    "category_counter = Counter()\n",
    "city_counter = Counter()\n",
    "state_counter = Counter()\n",
    "review_counts = []\n",
    "\n",
    "# Open the Yelp business dataset and read each line\n",
    "with open(\"./Yelp JSON/yelp_dataset/yelp_academic_dataset_business.json\", \"r\") as businesses:\n",
    "    for line in businesses:\n",
    "        business = json.loads(line)\n",
    "\n",
    "        # Skip businesses that are not restaurants\n",
    "        if business[\"categories\"]:\n",
    "            categories = business[\"categories\"].split(\", \")\n",
    "            for category in categories:\n",
    "                category_counter[category] += 1\n",
    "        \n",
    "        # Count the occurrences of cities and states, and collect review counts\n",
    "        city_counter[business[\"city\"]] += 1\n",
    "        state_counter[business[\"state\"]] += 1\n",
    "        review_counts.append(business[\"review_count\"])"
   ]
  },
  {
   "cell_type": "code",
   "execution_count": 3,
   "id": "978d4eb0",
   "metadata": {},
   "outputs": [
    {
     "name": "stdout",
     "output_type": "stream",
     "text": [
      "CATEGORIES\n",
      "Restaurants: 52268\n",
      "Food: 27781\n",
      "Shopping: 24395\n",
      "Home Services: 14356\n",
      "Beauty & Spas: 14292\n",
      "Nightlife: 12281\n",
      "Health & Medical: 11890\n",
      "Local Services: 11198\n",
      "Bars: 11065\n",
      "Automotive: 10773\n",
      "Event Planning & Services: 9895\n",
      "Sandwiches: 8366\n",
      "American (Traditional): 8139\n",
      "Active Life: 7687\n",
      "Pizza: 7093\n",
      "Coffee & Tea: 6703\n",
      "Fast Food: 6472\n",
      "Breakfast & Brunch: 6239\n",
      "American (New): 6097\n",
      "Hotels & Travel: 5857\n"
     ]
    }
   ],
   "source": [
    "# Print the top 20 most common categories\n",
    "print(\"CATEGORIES\")\n",
    "for category, count in category_counter.most_common(20):\n",
    "    print(f\"{category}: {count}\")"
   ]
  },
  {
   "cell_type": "code",
   "execution_count": null,
   "id": "ce29526a",
   "metadata": {},
   "outputs": [
    {
     "name": "stdout",
     "output_type": "stream",
     "text": [
      "CITIES\n",
      "Philadelphia: 14569\n",
      "Tucson: 9250\n",
      "Tampa: 9050\n",
      "Indianapolis: 7540\n",
      "Nashville: 6971\n",
      "New Orleans: 6209\n",
      "Reno: 5935\n",
      "Edmonton: 5054\n",
      "Saint Louis: 4827\n",
      "Santa Barbara: 3829\n",
      "Boise: 2937\n",
      "Clearwater: 2221\n",
      "Saint Petersburg: 1663\n",
      "Metairie: 1643\n",
      "Sparks: 1624\n",
      "Wilmington: 1446\n",
      "Franklin: 1414\n",
      "St. Louis: 1255\n",
      "St. Petersburg: 1185\n",
      "Meridian: 1043\n",
      "Brandon: 1033\n",
      "Largo: 1002\n",
      "Carmel: 967\n",
      "Cherry Hill: 960\n",
      "West Chester: 838\n",
      "Goleta: 798\n",
      "Brentwood: 767\n",
      "Palm Harbor: 665\n",
      "Greenwood: 649\n",
      "New Port Richey: 604\n",
      "Lutz: 591\n",
      "Riverview: 588\n",
      "Kenner: 584\n",
      "Fishers: 570\n",
      "Wesley Chapel: 560\n",
      "King of Prussia: 560\n",
      "Doylestown: 539\n",
      "Pinellas Park: 512\n",
      "Dunedin: 490\n",
      "Hendersonville: 484\n",
      "Bensalem: 454\n",
      "Norristown: 448\n",
      "Exton: 419\n",
      "Marlton: 415\n",
      "Spring Hill: 402\n",
      "Tarpon Springs: 398\n",
      "St Petersburg: 387\n",
      "Springfield: 384\n",
      "Lansdale: 378\n",
      "Ardmore: 376\n"
     ]
    }
   ],
   "source": [
    "# Print the top 20 most common cities\n",
    "print(\"CITIES\")\n",
    "for city, count in city_counter.most_common(50):\n",
    "    print(f\"{city}: {count}\")"
   ]
  },
  {
   "cell_type": "code",
   "execution_count": null,
   "id": "2407257b",
   "metadata": {},
   "outputs": [
    {
     "name": "stdout",
     "output_type": "stream",
     "text": [
      "STATES\n",
      "PA: 34039\n",
      "FL: 26330\n",
      "TN: 12056\n",
      "IN: 11247\n",
      "MO: 10913\n",
      "LA: 9924\n",
      "AZ: 9912\n",
      "NJ: 8536\n",
      "NV: 7715\n",
      "AB: 5573\n",
      "CA: 5203\n",
      "ID: 4467\n",
      "DE: 2265\n",
      "IL: 2145\n",
      "TX: 4\n",
      "CO: 3\n",
      "WA: 2\n",
      "HI: 2\n",
      "MA: 2\n",
      "NC: 1\n"
     ]
    }
   ],
   "source": [
    "# Print the top 20 most common states\n",
    "print(\"STATES\")\n",
    "for state, count in state_counter.most_common(20):\n",
    "    print(f\"{state}: {count}\")"
   ]
  },
  {
   "cell_type": "code",
   "execution_count": null,
   "id": "43f2d0bc",
   "metadata": {},
   "outputs": [
    {
     "name": "stdout",
     "output_type": "stream",
     "text": [
      "REVIEW COUNTS\n",
      "mean: 44.87\n",
      "median: 15.00\n",
      "std_dev: 121.12\n",
      "min: 5.00\n",
      "max: 7568.00\n"
     ]
    }
   ],
   "source": [
    "# Calculate statistics for review counts\n",
    "review_counts = np.array(review_counts)\n",
    "review_stats = {\n",
    "    \"mean\": np.mean(review_counts),\n",
    "    \"median\": np.median(review_counts),\n",
    "    \"std_dev\": np.std(review_counts),\n",
    "    \"min\": np.min(review_counts),\n",
    "    \"max\": np.max(review_counts)\n",
    "}\n",
    "\n",
    "print(\"REVIEW COUNTS\")\n",
    "for stat, value in review_stats.items():\n",
    "    print(f\"{stat}: {value:.2f}\")"
   ]
  },
  {
   "cell_type": "markdown",
   "id": "16123bf9",
   "metadata": {},
   "source": [
    "Now, iterate through full business dataset and find optimal number of businesses."
   ]
  },
  {
   "cell_type": "code",
   "execution_count": null,
   "id": "834078ca",
   "metadata": {},
   "outputs": [
    {
     "name": "stdout",
     "output_type": "stream",
     "text": [
      "Restaurants in CA with more than 50 but less than 1,000 reviews: 684\n"
     ]
    }
   ],
   "source": [
    "# Tune filters to find optimal number of total businesses\n",
    "selected_business_ids = []\n",
    "\n",
    "with open(\"./Yelp JSON/yelp_dataset/yelp_academic_dataset_business.json\", \"r\") as businesses:\n",
    "    for line in businesses:\n",
    "        business = json.loads(line)\n",
    "\n",
    "        if business[\"categories\"]:\n",
    "            categories = business[\"categories\"].split(\", \")\n",
    "\n",
    "            if \"Restaurants\" in categories and business[\"state\"] == \"CA\" and 50 < business[\"review_count\"] < 1000:\n",
    "                selected_business_ids.append(business[\"business_id\"])\n",
    "\n",
    "print(f\"Restaurants in CA with more than 50 but less than 1,000 reviews: {len(selected_business_ids)}\")"
   ]
  },
  {
   "cell_type": "markdown",
   "id": "d81d773c",
   "metadata": {},
   "source": [
    "After tuning filters, there are 684 restaurants in CA with more than 50 reviews (but less than 1,000) which seems like a reasonable dataset size. Then, iterate through full review dataset from (``yelp_academic_dataset_review.json``) and find optimal number of total reviews."
   ]
  },
  {
   "cell_type": "code",
   "execution_count": null,
   "id": "51c784f1",
   "metadata": {},
   "outputs": [
    {
     "name": "stdout",
     "output_type": "stream",
     "text": [
      "Total reviews for selected businesses: 157916\n"
     ]
    }
   ],
   "source": [
    "# Tune filters to find optimal number of total reviews\n",
    "review_count = 0\n",
    "\n",
    "with open(\"./Yelp JSON/yelp_dataset/yelp_academic_dataset_review.json\", \"r\") as reviews:\n",
    "    for line in reviews:\n",
    "        review = json.loads(line)\n",
    "\n",
    "        if review[\"business_id\"] in selected_business_ids:\n",
    "            review_count += 1\n",
    "\n",
    "print(f\"Total reviews for selected businesses: {review_count}\")"
   ]
  }
 ],
 "metadata": {
  "kernelspec": {
   "display_name": "venv",
   "language": "python",
   "name": "python3"
  },
  "language_info": {
   "codemirror_mode": {
    "name": "ipython",
    "version": 3
   },
   "file_extension": ".py",
   "mimetype": "text/x-python",
   "name": "python",
   "nbconvert_exporter": "python",
   "pygments_lexer": "ipython3",
   "version": "3.13.3"
  }
 },
 "nbformat": 4,
 "nbformat_minor": 5
}
